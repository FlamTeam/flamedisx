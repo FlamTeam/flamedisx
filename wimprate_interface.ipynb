{
 "cells": [
  {
   "cell_type": "code",
   "execution_count": null,
   "id": "426697b2-567b-44c0-936c-c6b7ab90e364",
   "metadata": {},
   "outputs": [],
   "source": [
    "from flamedisx.nest import nestWIMPSource\n",
    "import flamedisx as fd"
   ]
  },
  {
   "cell_type": "code",
   "execution_count": null,
   "id": "4fa892c3",
   "metadata": {},
   "outputs": [],
   "source": [
    "source = nestWIMPSource(wimp_mass=500, sigma=1e-45)"
   ]
  },
  {
   "cell_type": "code",
   "execution_count": null,
   "id": "bac78671",
   "metadata": {},
   "outputs": [],
   "source": [
    "source.energy_hist.projection(1).plot()"
   ]
  },
  {
   "cell_type": "markdown",
   "id": "50a5ef11",
   "metadata": {},
   "source": [
    "# Generating spectra from different parameter sets"
   ]
  },
  {
   "cell_type": "code",
   "execution_count": null,
   "id": "d5726ba3",
   "metadata": {},
   "outputs": [],
   "source": [
    "case_1 = nestWIMPSource.get_energy_hist(wimp_mass=30, min_E=0, max_E=100, n_bins_energy=500, n_bins_time=30, sigma=1e-48)\n",
    "case_2 = nestWIMPSource.get_energy_hist(wimp_mass=50, min_E=0, max_E=100, n_bins_energy=500, n_bins_time=30, sigma=1e-47)"
   ]
  },
  {
   "cell_type": "code",
   "execution_count": null,
   "id": "963f44cf",
   "metadata": {},
   "outputs": [],
   "source": [
    "case_1.plot()"
   ]
  },
  {
   "cell_type": "code",
   "execution_count": null,
   "id": "af2aed20",
   "metadata": {},
   "outputs": [],
   "source": [
    "case_2.plot()"
   ]
  },
  {
   "cell_type": "code",
   "execution_count": null,
   "id": "3f46e452",
   "metadata": {},
   "outputs": [],
   "source": [
    "case_1.projection(1).plot()\n",
    "case_2.projection(1).plot()"
   ]
  },
  {
   "cell_type": "markdown",
   "id": "7753ef62",
   "metadata": {},
   "source": [
    "# Generating spectra with and without modulation over 1 year"
   ]
  },
  {
   "cell_type": "code",
   "execution_count": null,
   "id": "1381dba0-53d1-4e88-b2ce-f1783a5a479a",
   "metadata": {},
   "outputs": [],
   "source": [
    "hist_mod_on = nestWIMPSource.get_energy_hist(modulation=True)\n",
    "hist_mod_off = nestWIMPSource.get_energy_hist(modulation=False)"
   ]
  },
  {
   "cell_type": "code",
   "execution_count": null,
   "id": "f3bf62be",
   "metadata": {},
   "outputs": [],
   "source": [
    "hist_mod_on.plot()\n"
   ]
  },
  {
   "cell_type": "code",
   "execution_count": null,
   "id": "656eb7cb",
   "metadata": {},
   "outputs": [],
   "source": [
    "hist_mod_off.plot()"
   ]
  },
  {
   "cell_type": "code",
   "execution_count": null,
   "id": "4851d23b",
   "metadata": {},
   "outputs": [],
   "source": [
    "hist_mod_on.projection(1).plot()\n",
    "hist_mod_off.projection(1).plot()"
   ]
  },
  {
   "cell_type": "code",
   "execution_count": null,
   "id": "a563b291",
   "metadata": {},
   "outputs": [],
   "source": [
    "hist_mod_off.projection(0).plot()\n",
    "hist_mod_on.projection(0).plot()"
   ]
  },
  {
   "cell_type": "code",
   "execution_count": null,
   "id": "37148e60",
   "metadata": {},
   "outputs": [],
   "source": [
    "fd.relative_modulation()"
   ]
  },
  {
   "cell_type": "code",
   "execution_count": null,
   "id": "a4389376",
   "metadata": {},
   "outputs": [],
   "source": [
    "fd.xlzd.XLZDWIMPSource()"
   ]
  }
 ],
 "metadata": {
  "kernelspec": {
   "display_name": "Python 3 (ipykernel)",
   "language": "python",
   "name": "python3"
  },
  "language_info": {
   "codemirror_mode": {
    "name": "ipython",
    "version": 3
   },
   "file_extension": ".py",
   "mimetype": "text/x-python",
   "name": "python",
   "nbconvert_exporter": "python",
   "pygments_lexer": "ipython3",
   "version": "3.10.12"
  }
 },
 "nbformat": 4,
 "nbformat_minor": 5
}
