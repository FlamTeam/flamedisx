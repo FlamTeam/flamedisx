{
  "nbformat": 4,
  "nbformat_minor": 0,
  "metadata": {
    "colab": {
      "name": "flamedisx_tf2.ipynb",
      "provenance": [],
      "collapsed_sections": []
    },
    "kernelspec": {
      "name": "python3",
      "display_name": "Python 3"
    },
    "accelerator": "GPU"
  },
  "cells": [
    {
      "cell_type": "markdown",
      "metadata": {
        "id": "xRm4IeaClfUg",
        "colab_type": "text"
      },
      "source": [
        "Run Flamedisx in Colab, mainly for testing /developing the tf port.\n",
        "To open in Colab go [here](https://colab.research.google.com/github/JelleAalbers/flamedisx/blob/master/notebooks/flamedisx_tf2.ipynb)\n",
        "\n",
        "## Setup packages"
      ]
    },
    {
      "cell_type": "code",
      "metadata": {
        "id": "LMMBRXX8IvGB",
        "colab_type": "code",
        "colab": {}
      },
      "source": [
        "!pip install flamedisx\n",
        "#!git clone https://github.com/JelleAalbers/flamedisx.git"
      ],
      "execution_count": 0,
      "outputs": []
    },
    {
      "cell_type": "code",
      "metadata": {
        "id": "LJU6VHOXX3Va",
        "colab_type": "code",
        "colab": {}
      },
      "source": [
        "# Mount Google Drive to use XENON data w flamedisx\n",
        "from google.colab import drive\n",
        "drive.mount('/content/drive/')\n",
        "\n",
        "data_path = 'drive/My Drive/flamedisx_data/'"
      ],
      "execution_count": 0,
      "outputs": []
    },
    {
      "cell_type": "code",
      "metadata": {
        "id": "YoJF-BLzKOjf",
        "colab_type": "code",
        "colab": {}
      },
      "source": [
        "# Install TF2 and TFP w GPU support (change runtime to GPU to test)\n",
        "!pip install -U tensorflow-gpu==2.0.0-rc1\n",
        "!pip install -U tensorflow_probability==0.8.0-rc0\n",
        "\n",
        "import tensorflow as tf\n",
        "import tensorflow_probability as tfp\n",
        "tfd = tfp.distributions"
      ],
      "execution_count": 0,
      "outputs": []
    },
    {
      "cell_type": "code",
      "metadata": {
        "id": "D_FtZiQY5BV7",
        "colab_type": "code",
        "colab": {}
      },
      "source": [
        "tf.__version__, tfp.__version__, tf.test.is_gpu_available(), tf.executing_eagerly()"
      ],
      "execution_count": 0,
      "outputs": []
    },
    {
      "cell_type": "code",
      "metadata": {
        "id": "jPfcCkAb06QV",
        "colab_type": "code",
        "colab": {}
      },
      "source": [
        "# In case you cloned flamedisx, install it here\n",
        "#%cd flamedisx\n",
        "#!git checkout time_dependent_rate\n",
        "#!git pull origin time_dependent_rate\n",
        "#!python setup.py develop\n",
        "#%cd .."
      ],
      "execution_count": 0,
      "outputs": []
    },
    {
      "cell_type": "markdown",
      "metadata": {
        "id": "jmIGFYkHmYXd",
        "colab_type": "text"
      },
      "source": [
        "# Run Flamedisx\n",
        "(the code from the model_checks notebook)"
      ]
    },
    {
      "cell_type": "code",
      "metadata": {
        "id": "G1-ZqtOfJFBB",
        "colab_type": "code",
        "colab": {}
      },
      "source": [
        "import numpy as np\n",
        "import pandas as pd\n",
        "from tqdm import tqdm\n",
        "import matplotlib\n",
        "import matplotlib.pyplot as plt\n",
        "%matplotlib inline"
      ],
      "execution_count": 0,
      "outputs": []
    },
    {
      "cell_type": "code",
      "metadata": {
        "id": "kC8ZuJZIWOar",
        "colab_type": "code",
        "colab": {}
      },
      "source": [
        "from multihist import Hist1d\n",
        "\n",
        "import flamedisx\n",
        "from flamedisx.x1t_sr0 import SR0WIMPSource, SR0ERSource\n",
        "\n",
        "# raise errors on any warning\n",
        "import warnings\n",
        "warnings.filterwarnings(\"error\")"
      ],
      "execution_count": 0,
      "outputs": []
    },
    {
      "cell_type": "code",
      "metadata": {
        "id": "qVb_N2EhLu6-",
        "colab_type": "code",
        "colab": {}
      },
      "source": [
        "dsets = dict(\n",
        "    er=dict(source_class=SR0ERSource,\n",
        "            data=pd.read_csv(data_path + 'data_Rn220_lowenergy.csv')),\n",
        "    nr=dict(source_class=SR0WIMPSource,\n",
        "            data=pd.read_csv(data_path + 'data_AmBe_lowenergy.csv')[::8]))\n",
        "\n",
        "print(len(dsets['er']['data']), \"ER events\")\n",
        "print(len(dsets['nr']['data']), \"NR events\")\n",
        "\n",
        "def std_axes():\n",
        "    plt.xlabel(\"S1 [PE]\")\n",
        "    plt.ylabel(r\"S2 [PE]\")\n",
        "    plt.xlim(0, 100)\n",
        "    plt.ylim(0, None)\n",
        "\n",
        "for dname, q in dsets.items():\n",
        "    d = q['data']\n",
        "    sc = q['source_class']\n",
        "\n",
        "    q['source'] = s = sc(d)  # batch_size\n",
        "    d = s.annotate_data(d)\n",
        "\n",
        "    # Cut at CES < 10.\n",
        "    # a cs1 cut would likely cause a bias since for some energies\n",
        "    # you'd only have some extreme events.\n",
        "    d = q['data'] = d[d['e_vis'] < 10].copy()\n",
        "    \n",
        "    s.set_data(d)\n",
        "    \n",
        "    plt.scatter(d['s1'], d['s2'], s=2, c=d['drift_time']/1e3, cmap=plt.cm.jet)\n",
        "    plt.colorbar(label=\"Drift time [us]\")\n",
        "    std_axes()\n",
        "    plt.show()"
      ],
      "execution_count": 0,
      "outputs": []
    },
    {
      "cell_type": "markdown",
      "metadata": {
        "id": "5jG7xwlaZITF",
        "colab_type": "text"
      },
      "source": [
        "# Compute likelihood"
      ]
    },
    {
      "cell_type": "code",
      "metadata": {
        "id": "Z7H92-Ogr0-F",
        "colab_type": "code",
        "colab": {}
      },
      "source": [
        "for dname, q in dsets.items():\n",
        "    d = q['data']\n",
        "    if 'likelihood' not in d.columns:\n",
        "        d['likelihood'] = q['source'].batched_differential_rate()\n",
        "\n",
        "    with warnings.catch_warnings():\n",
        "        warnings.simplefilter(\"ignore\")\n",
        "        d['ll'] = np.log10(d['likelihood'])\n",
        "        \n",
        "    plt.scatter(d['e_vis'], \n",
        "                d['electron_produced_mle'],\n",
        "                c=d['ll'], vmin=-7,\n",
        "                cmap=plt.cm.jet, s=2)\n",
        "    plt.colorbar(label=r'$\\log_{10} \\mu \\times PDF$')\n",
        "\n",
        "    plt.xlabel(r\"$E_\\mathrm{vis}$ [keV]\")\n",
        "    plt.ylabel(\"Electrons produced (est.)\")\n",
        "    plt.xlim(0, 10)\n",
        "    plt.ylim(0, None)\n",
        "    plt.show()"
      ],
      "execution_count": 0,
      "outputs": []
    },
    {
      "cell_type": "markdown",
      "metadata": {
        "id": "MWHNylAVZQtd",
        "colab_type": "text"
      },
      "source": [
        "## Compare data with simulation"
      ]
    },
    {
      "cell_type": "code",
      "metadata": {
        "id": "oceXmjLEr_ws",
        "colab_type": "code",
        "colab": {}
      },
      "source": [
        "for dname, q in dsets.items():\n",
        "    s = q['source']\n",
        "    d = s.simulate(len(q['data']))\n",
        "    \n",
        "    d = d[d['e_vis'] < 10]\n",
        "    q['data_sim'] = d\n",
        "    \n",
        "    for d, label in ([q['data'], 'Data'], [q['data_sim'], 'Simulation']):\n",
        "        plt.scatter(d['photon_produced_mle'], d['electron_produced_mle'], \n",
        "                    label=label, s=2)\n",
        "        \n",
        "    plt.xlabel(\"Photons produced (est.)\")\n",
        "    plt.ylabel(\"Electrons produced (est.)\")\n",
        "    plt.legend(loc='upper left', markerscale=5)\n",
        "\n",
        "    plt.title(dname)\n",
        "    plt.xlim(0, None)\n",
        "    plt.ylim(0, None)\n",
        "    plt.show()"
      ],
      "execution_count": 0,
      "outputs": []
    },
    {
      "cell_type": "markdown",
      "metadata": {
        "id": "uRtLd7fTZWfm",
        "colab_type": "text"
      },
      "source": [
        "\n",
        "\n",
        "The agreement is pretty good. Not perfect -- but that's not the point:\n",
        "\n",
        "*   For ER, I didn't want to spend hours implementing the fine details of the SR0 ER model (such as the electron lifetime time distribution).\n",
        "*   For NR, I don't know the AmBe energy spectrum, so I just compare with a high-mass WIMP. The agreement isn't great, but at least the NR band seems to be in approximately the right place, which is OK for now.\n",
        "\n",
        "Though it's not much of a check (since it doens't involve the likelihood at all), we can also check whether the estimated and actual produced number of photons/electrons match:\n"
      ]
    },
    {
      "cell_type": "code",
      "metadata": {
        "id": "ejL_BgTAsOyJ",
        "colab_type": "code",
        "colab": {}
      },
      "source": [
        "for qt in ['photon', 'electron']:\n",
        "    for dname, q in dsets.items():\n",
        "        d = q['data_sim']\n",
        "\n",
        "        plt.scatter(d[f'{qt}_produced'], d[f'{qt}_produced_mle'], s=2, label=dname)\n",
        "        plt.xlabel(f\"{qt.capitalize()}s produced\")\n",
        "        plt.ylabel(f\"{qt.capitalize()}s produced, est.\")\n",
        "\n",
        "    plt.legend(markerscale=5)\n",
        "    plt.xlim(0, None)\n",
        "    plt.ylim(0, None)\n",
        "    plt.gca().set_aspect('equal')\n",
        "    plt.show()"
      ],
      "execution_count": 0,
      "outputs": []
    },
    {
      "cell_type": "markdown",
      "metadata": {
        "id": "PpcFvQ4XZick",
        "colab_type": "text"
      },
      "source": [
        "and whether the min-max bounds are reasonable:"
      ]
    },
    {
      "cell_type": "code",
      "metadata": {
        "id": "yZU53yYSsUXq",
        "colab_type": "code",
        "colab": {}
      },
      "source": [
        "for dname, q in dsets.items():\n",
        "    for kind in ('produced', 'detected'):\n",
        "        for qt in ['photon', 'electron']:\n",
        "            d = q['data_sim'].copy()\n",
        "            key = qt + '_' + kind\n",
        "            d = d.sort_values(by=[key + '_mle',\n",
        "                                  key + '_min'])\n",
        "\n",
        "            mi, ma, mle, real = d[[key + x \n",
        "                                   for x in ('_min', '_max', '_mle', '')]].values.T\n",
        "            x = np.arange(len(d))\n",
        "            plt.fill_between(x, ma, mi, \n",
        "                             step='mid', color='b', alpha=0.2, linewidth=0)\n",
        "            plt.plot(x, mle, c='b', linestyle='steps-mid')\n",
        "            \n",
        "            fail = (real < mi) | (real > ma)\n",
        "            plt.scatter(x[fail], real[fail], c='r', s=2)\n",
        "            plt.scatter(x[~fail], real[~fail], s=2)\n",
        "\n",
        "            plt.title(dname + ': ' + key)\n",
        "            plt.xlabel(\"Event number\")\n",
        "            plt.ylabel(\"N\")\n",
        "            plt.show()"
      ],
      "execution_count": 0,
      "outputs": []
    },
    {
      "cell_type": "markdown",
      "metadata": {
        "id": "gOXyIXkHZl2Z",
        "colab_type": "text"
      },
      "source": [
        "# Compare with MC likelihood\n",
        "\n",
        "For this we have to simulate events at one position, so the likelihood becomes two-dimensional. Then we can build a histogram using the simulation, and convert it to a PDF estimate.\n"
      ]
    },
    {
      "cell_type": "code",
      "metadata": {
        "id": "URm_M5Tgscf5",
        "colab_type": "code",
        "colab": {}
      },
      "source": [
        "import flamedisx\n",
        "from tqdm import tqdm\n",
        "from multihist import Histdd\n",
        "\n",
        "n_trials = int(1e5)\n",
        "n_batches = 100\n",
        "evt_i = 0\n",
        "\n",
        "single_event = dict()\n",
        "\n",
        "for dname, q in dsets.items():\n",
        "    single_event[dname] = dsets[dname]['data'].iloc[0]\n",
        "    #  del q['mh']\n",
        "    if 'mh' in q:\n",
        "        mh = q['mh']\n",
        "    else:\n",
        "        mh = Histdd(bins=(\n",
        "            np.geomspace(2, 70, 70),\n",
        "            np.geomspace(200, 6000, 70)))\n",
        "\n",
        "        for _ in tqdm(range(n_batches)):\n",
        "            _d = q['source'].simulate(n_trials,\n",
        "                                      fix_truth=single_event[dname].copy())\n",
        "            mh.add(_d['s1'], _d['s2'])\n",
        "\n",
        "        # Convert to PDF\n",
        "        mh /= mh.bin_volumes() * n_trials * n_batches\n",
        "        \n",
        "        # Multiply by total expected event rate\n",
        "        # (from the source, i.e. before correcting for efficiencies)\n",
        "        if dsets[dname]['source_class'] == SR0WIMPSource:\n",
        "            mh *= q['source'].energy_hist.slice(single_event[dname]['t']).n\n",
        "        else:\n",
        "            mh *= q['source'].mu_before_efficiencies()\n",
        "        \n",
        "        q['mh'] = mh\n",
        "        \n",
        "    mh.plot(cblabel=r'$\\mu \\times \\mathrm{PDF}$')\n",
        "    plt.xlabel(\"S1 [PE]\")\n",
        "    plt.ylabel(\"S2 [PE]\")\n",
        "    plt.yscale('log')\n",
        "    plt.xscale('log')\n",
        "    plt.show()"
      ],
      "execution_count": 0,
      "outputs": []
    },
    {
      "cell_type": "code",
      "metadata": {
        "id": "QPWCw4gxftzd",
        "colab_type": "code",
        "colab": {}
      },
      "source": [
        "for dname, q in dsets.items():\n",
        "    # del q['simd']\n",
        "    if 'simd' in q:\n",
        "        d = q['simd']\n",
        "    else:\n",
        "        d = q['source'].simulate(1000, fix_truth=single_event[dname].copy())\n",
        "        # Avoid extrapolation in MC likelihood\n",
        "        d = d[(d['s1'] < 70)]\n",
        "        d = d[d['s2'] < 6000]\n",
        "        q['simd'] = d\n",
        "\n",
        "        # Note the higher max_sigma here to ensure good results\n",
        "        # TODO: fix bound calcs!\n",
        "        if dname == 'er':\n",
        "            d['likelihood'] = SR0ERSource(d,\n",
        "                                          max_sigma=5,\n",
        "                                          #batch_size=301,\n",
        "                                          ).batched_differential_rate()\n",
        "        if dname == 'nr':\n",
        "            d['likelihood'] = SR0WIMPSource(d,\n",
        "                                            max_sigma=5,\n",
        "                                            #batch_size=301,\n",
        "                                            ).batched_differential_rate()\n",
        "\n",
        "        d['likelihood_2'] = q['mh'].lookup(d['s1'], d['s2'])\n",
        "    \n",
        "    with warnings.catch_warnings():\n",
        "        warnings.simplefilter(\"ignore\")\n",
        "        d['ll_full'] = np.log10(d['likelihood'])\n",
        "        d['ll_mh'] = np.log10(d['likelihood_2'])\n",
        "\n",
        "    plt.scatter(\n",
        "        d['ll_mh'].values,\n",
        "        d['ll_full'].values,\n",
        "        c=d['energy'], cmap=plt.cm.jet,\n",
        "        s=0.5)\n",
        "    ma, mi = d['ll_mh'].max() + 0.2, d['ll_mh'].min() - 0.2\n",
        "    plt.plot([mi, ma], [mi, ma], c='k', alpha=0.3, label='Y = X')\n",
        "    plt.legend(loc='upper left', frameon=False)\n",
        "    plt.xlim(mi, ma)\n",
        "    plt.ylim(mi, ma)\n",
        "    \n",
        "    plt.colorbar(label='Recoil energy [keV]')\n",
        "    plt.xlabel(\"Log10 MC likelihood\")\n",
        "    plt.ylabel(\"Log10 Full likelihood\")\n",
        "    plt.gca().set_aspect('equal')\n",
        "    plt.title(dname)\n",
        "    plt.show()"
      ],
      "execution_count": 0,
      "outputs": []
    },
    {
      "cell_type": "code",
      "metadata": {
        "id": "ZcU1gHZuz5LQ",
        "colab_type": "code",
        "colab": {}
      },
      "source": [
        "for dname, q in dsets.items():\n",
        "    d = q['simd']\n",
        "    \n",
        "    plt.scatter(d['e_vis'], \n",
        "                d['electron_produced_mle'],\n",
        "                c=np.log10(d['likelihood']), vmin=-7,\n",
        "                cmap=plt.cm.jet, s=2)\n",
        "    plt.colorbar(label=r'$\\log_{10}$ Likelihood')\n",
        "\n",
        "    plt.xlabel(r\"$E_\\mathrm{vis}$ [keV]\")\n",
        "    plt.ylabel(\"Electrons produced (est.)\")\n",
        "    plt.xlim(0, 10)\n",
        "    plt.ylim(0, None)\n",
        "    plt.title(dname)\n",
        "    plt.show()"
      ],
      "execution_count": 0,
      "outputs": []
    },
    {
      "cell_type": "code",
      "metadata": {
        "id": "yux49Sl7z-4M",
        "colab_type": "code",
        "colab": {}
      },
      "source": [
        "for dname, q in dsets.items():\n",
        "    d = q['simd']\n",
        "\n",
        "    lmax = d['likelihood'].max()\n",
        "    f = 1000\n",
        "    \n",
        "    (q['mh'] * f).plot(cmap=plt.cm.Greys, vmax=lmax * f, \n",
        "                         cblabel='PDF (MC) x %d' % f)\n",
        "    \n",
        "    plt.scatter(d['s1'], d['s2'], s=0.5, c=f * d['likelihood'], \n",
        "                cmap=plt.cm.jet, vmax=lmax * f)\n",
        "    plt.colorbar(label='PDF (full) x %d' % f)\n",
        "    plt.xlabel(\"S1 [PE]\")\n",
        "    plt.ylim(0, None if dname == 'er' else 3000)\n",
        "    plt.xlim(0, None if dname == 'er' else 40)\n",
        "    plt.ylabel(\"S2 [PE]\")\n",
        "    plt.show()"
      ],
      "execution_count": 0,
      "outputs": []
    }
  ]
}