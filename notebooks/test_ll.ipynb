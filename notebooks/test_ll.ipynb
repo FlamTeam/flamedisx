{
 "cells": [
  {
   "cell_type": "code",
   "execution_count": null,
   "metadata": {},
   "outputs": [],
   "source": [
    "%run ~/common_init.py\n",
    "import flamedisx as fd\n",
    "import tensorflow as tf\n",
    "#fd.utils.FLOAT_TYPE = tf.float64\n",
    "fd.float_type()"
   ]
  },
  {
   "cell_type": "code",
   "execution_count": null,
   "metadata": {},
   "outputs": [],
   "source": [
    "rn_data = pd.read_csv('data_Rn220_lowenergy.csv')[::32]\n",
    "fd.SR0ERSource.annotate_data(rn_data)\n",
    "rn_data = rn_data[rn_data['e_vis'] < 10].copy()\n",
    "rn_data = rn_data[['s1', 's2'] + ['x_observed', 'y_observed', 'x', 'y', 'z', 'drift_time']]"
   ]
  },
  {
   "cell_type": "code",
   "execution_count": null,
   "metadata": {},
   "outputs": [],
   "source": [
    "len(rn_data)"
   ]
  },
  {
   "cell_type": "code",
   "execution_count": null,
   "metadata": {
    "scrolled": false
   },
   "outputs": [],
   "source": [
    "ll = fd.LogLikelihood(\n",
    "    sources=dict(er=fd.SR0ERSource),\n",
    "    batch_size=1,  # For CPU, batching does not help\n",
    "    free_rates='er',\n",
    "    data=rn_data,\n",
    "    elife=(300e3, 500e3, 3),\n",
    "    erqy_a=(5., 25., 2),\n",
    "    erqy_b=(-29., -26., 2),\n",
    "    erqy_c=(31.9, 32.8, 2),\n",
    "    g2=(25., 35., 2),\n",
    "    n_trials=int(2e5))\n",
    "len(rn_data), len(rn_data) / ll.mu_itps['er']().numpy()"
   ]
  },
  {
   "cell_type": "code",
   "execution_count": null,
   "metadata": {},
   "outputs": [],
   "source": [
    "for pname in ll.param_names:\n",
    "    if pname.endswith('_rate_multiplier'):\n",
    "        continue\n",
    "    start, stop, n = ll.param_specs[pname]\n",
    "    x = np.linspace(start, stop, 100, dtype=np.float32)\n",
    "    y = np.array([ll.mu_itps['er'](**{pname: tf.constant(q)}) for q in x])\n",
    "    plt.plot(x, y)\n",
    "    plt.title(pname)\n",
    "    plt.show()"
   ]
  },
  {
   "cell_type": "code",
   "execution_count": null,
   "metadata": {},
   "outputs": [],
   "source": [
    "guess = ll.guess().numpy()\n",
    "guess[0] = 0.02 #* 32"
   ]
  },
  {
   "cell_type": "code",
   "execution_count": null,
   "metadata": {},
   "outputs": [],
   "source": [
    "%%time\n",
    "bestfit = ll.bestfit(guess)"
   ]
  },
  {
   "cell_type": "code",
   "execution_count": null,
   "metadata": {},
   "outputs": [],
   "source": [
    "%%time\n",
    "inv_hess = ll.inverse_hessian(bestfit)"
   ]
  },
  {
   "cell_type": "code",
   "execution_count": null,
   "metadata": {},
   "outputs": [],
   "source": [
    "ll.summary(bestfit, inverse_hessian=inv_hess)"
   ]
  },
  {
   "cell_type": "code",
   "execution_count": null,
   "metadata": {},
   "outputs": [],
   "source": [
    "n_trials = int(1e5)\n",
    "\n",
    "sim_guess = fd.SR0ERSource.simulate(\n",
    "    n_trials, \n",
    "    data=rn_data,\n",
    "    **ll.params_to_dict(guess))\n",
    "\n",
    "sim_bf = fd.SR0ERSource.simulate(\n",
    "    n_trials, \n",
    "    data=rn_data,\n",
    "    **ll.params_to_dict(bestfit.numpy()))\n",
    "\n",
    "bins = np.linspace(0, 11, 10)\n",
    "for d_sim in sim_guess, sim_bf:\n",
    "    Histdd(d_sim, dimensions=(\n",
    "        ('e_vis', np.linspace(0, 11, 50)),\n",
    "        ('electron_produced_mle', np.linspace(0, 350, 50)),\n",
    "    )).plot()\n",
    "    d = rn_data\n",
    "    plt.scatter(d['e_vis'], d['electron_produced_mle'], c='white', s=5)\n",
    "    plt.show()\n"
   ]
  }
 ],
 "metadata": {
  "kernelspec": {
   "display_name": "Python 3",
   "language": "python",
   "name": "python3"
  },
  "language_info": {
   "codemirror_mode": {
    "name": "ipython",
    "version": 3
   },
   "file_extension": ".py",
   "mimetype": "text/x-python",
   "name": "python",
   "nbconvert_exporter": "python",
   "pygments_lexer": "ipython3",
   "version": "3.7.3"
  }
 },
 "nbformat": 4,
 "nbformat_minor": 2
}
