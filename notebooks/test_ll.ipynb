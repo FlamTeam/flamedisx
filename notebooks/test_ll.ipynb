{
  "nbformat": 4,
  "nbformat_minor": 0,
  "metadata": {
    "kernelspec": {
      "name": "python3",
      "display_name": "Python 3"
    },
    "language_info": {
      "codemirror_mode": {
        "name": "ipython",
        "version": 3
      },
      "file_extension": ".py",
      "mimetype": "text/x-python",
      "name": "python",
      "nbconvert_exporter": "python",
      "pygments_lexer": "ipython3",
      "version": "3.6.8"
    },
    "colab": {
      "name": "test_ll.ipynb",
      "provenance": []
    },
    "accelerator": "GPU"
  },
  "cells": [
    {
      "cell_type": "code",
      "metadata": {
        "id": "h9Ug-KiOBifZ",
        "colab_type": "code",
        "colab": {}
      },
      "source": [
        "# Where are you running the notebook\n",
        "# if colab == False assuming you have a local TF installation with GPU\n",
        "colab = True\n",
        "\n",
        "# How are you installing Flamedisx\n",
        "# if fd_clone == True will git clone repo, otherwise use pip install\n",
        "fd_clone = True"
      ],
      "execution_count": 0,
      "outputs": []
    },
    {
      "cell_type": "code",
      "metadata": {
        "id": "a5xSODZoCjzb",
        "colab_type": "code",
        "colab": {}
      },
      "source": [
        "if colab:\n",
        "    # Mount Google Drive to use XENON data w flamedisx\n",
        "    from google.colab import drive\n",
        "    drive.mount('/content/drive/')\n",
        "\n",
        "    data_path = 'drive/My Drive/flamedisx_data/'\n",
        "\n",
        "    # Install TF2 and TFP w GPU support (change runtime to GPU to test)\n",
        "    !pip install -U tensorflow-gpu==2.0.0\n",
        "    !pip install -U tensorflow_probability==0.8.0\n",
        "else:\n",
        "    data_path = ''"
      ],
      "execution_count": 0,
      "outputs": []
    },
    {
      "cell_type": "code",
      "metadata": {
        "id": "rQvs9j5uFBu1",
        "colab_type": "code",
        "colab": {}
      },
      "source": [
        "if fd_clone:\n",
        "    !git clone https://github.com/JelleAalbers/flamedisx.git\n",
        "\n",
        "    %cd flamedisx\n",
        "    !git checkout master\n",
        "    !git pull origin master\n",
        "    !python setup.py develop\n",
        "    %cd ..\n",
        "else:\n",
        "    !pip install flamedisx"
      ],
      "execution_count": 0,
      "outputs": []
    },
    {
      "cell_type": "code",
      "metadata": {
        "id": "sje5sqikA2s0",
        "colab_type": "code",
        "colab": {}
      },
      "source": [
        "import tensorflow as tf\n",
        "tf.__version__, tf.test.is_built_with_cuda(), tf.test.is_gpu_available()"
      ],
      "execution_count": 0,
      "outputs": []
    },
    {
      "cell_type": "code",
      "metadata": {
        "id": "5NwkUUQYFY4B",
        "colab_type": "code",
        "colab": {}
      },
      "source": [
        "import numpy as np\n",
        "import pandas as pd\n",
        "from tqdm import tqdm\n",
        "import matplotlib\n",
        "import matplotlib.pyplot as plt\n",
        "%matplotlib inline"
      ],
      "execution_count": 0,
      "outputs": []
    },
    {
      "cell_type": "code",
      "metadata": {
        "id": "mAQcfazNFgAG",
        "colab_type": "code",
        "colab": {}
      },
      "source": [
        "from multihist import Hist1d, Histdd"
      ],
      "execution_count": 0,
      "outputs": []
    },
    {
      "cell_type": "code",
      "metadata": {
        "id": "a8fGn0rvA2tC",
        "colab_type": "code",
        "colab": {}
      },
      "source": [
        "import flamedisx as fd\n",
        "import tensorflow as tf\n",
        "fd.float_type()"
      ],
      "execution_count": 0,
      "outputs": []
    },
    {
      "cell_type": "code",
      "metadata": {
        "id": "ZlLFrDr7Ghxq",
        "colab_type": "code",
        "colab": {}
      },
      "source": [
        "rn_data = pd.read_csv(data_path + 'data_Rn220_lowenergy.csv')[::4]\n",
        "\n",
        "rn_data = rn_data[(rn_data['s1'] < 70) & (rn_data['s1'] > 2)].copy()\n",
        "rn_data = rn_data[(rn_data['s2'] > 200) & (rn_data['s2'] < 6000)].copy()\n",
        "\n",
        "rn_data['theta'] = np.arctan2(rn_data['y'], rn_data['x'])\n",
        "rn_data['r'] = (rn_data['x']**2 + rn_data['y']**2)**0.5\n",
        "\n",
        "rn_data = fd.x1t_sr0.SR0ERSource().annotate_data(rn_data)\n",
        "\n",
        "rn_data_full = rn_data.copy()\n",
        "rn_data = rn_data[['s1', 's2'] + ['x_observed', 'y_observed', 'x', 'y', 'z', 'drift_time', 'r', 'theta']]"
      ],
      "execution_count": 0,
      "outputs": []
    },
    {
      "cell_type": "code",
      "metadata": {
        "id": "7mmXq2YHA2tT",
        "colab_type": "code",
        "colab": {}
      },
      "source": [
        "len(rn_data)"
      ],
      "execution_count": 0,
      "outputs": []
    },
    {
      "cell_type": "code",
      "metadata": {
        "scrolled": false,
        "id": "GO63BTorA2to",
        "colab_type": "code",
        "colab": {}
      },
      "source": [
        "ll = fd.LogLikelihood(\n",
        "    sources=dict(er=fd.x1t_sr0.SR0ERSource),\n",
        "    batch_size=40 if tf.test.is_gpu_available() else 10,\n",
        "    free_rates='er',\n",
        "    data=rn_data,\n",
        "    elife=(300e3, 500e3, 3),\n",
        "    er_pel_a=(5., 25., 2),\n",
        "    er_pel_b=(-29., -26., 2),\n",
        "    er_pel_c=(31.9, 32.8, 2),\n",
        "    g2=(25., 35., 2),\n",
        "    n_trials=int(2e5))\n",
        "len(rn_data), len(rn_data) / ll.mu_itps['er']().numpy()"
      ],
      "execution_count": 0,
      "outputs": []
    },
    {
      "cell_type": "code",
      "metadata": {
        "id": "h4xlndnuA2tu",
        "colab_type": "code",
        "colab": {}
      },
      "source": [
        "for pname in ll.param_names:\n",
        "    if pname.endswith('_rate_multiplier'):\n",
        "        continue\n",
        "    start, stop, n = ll.param_specs[pname]\n",
        "    x = np.linspace(start, stop, 100, dtype=np.float32)\n",
        "    y = np.array([ll.mu_itps['er'](**{pname: tf.constant(q)}) for q in x])\n",
        "    plt.plot(x, y)\n",
        "    plt.title(pname)\n",
        "    plt.show()"
      ],
      "execution_count": 0,
      "outputs": []
    },
    {
      "cell_type": "code",
      "metadata": {
        "id": "fMk-mFZjA2t4",
        "colab_type": "code",
        "colab": {}
      },
      "source": [
        "guess = ll.guess()\n",
        "guess['er_rate_multiplier'] = tf.constant(0.02 * 4, dtype=fd.float_type())"
      ],
      "execution_count": 0,
      "outputs": []
    },
    {
      "cell_type": "code",
      "metadata": {
        "id": "bxmahBrMA2uG",
        "colab_type": "code",
        "colab": {}
      },
      "source": [
        "# This ensures all graphs are traced and the benchmark below is accurate\n",
        "bestfit = ll.bestfit(guess)"
      ],
      "execution_count": 0,
      "outputs": []
    },
    {
      "cell_type": "code",
      "metadata": {
        "id": "NcpdGq62A2uO",
        "colab_type": "code",
        "colab": {}
      },
      "source": [
        "%%time\n",
        "bestfit = ll.bestfit(guess)"
      ],
      "execution_count": 0,
      "outputs": []
    },
    {
      "cell_type": "code",
      "metadata": {
        "id": "e23mn_KXA2ua",
        "colab_type": "code",
        "colab": {}
      },
      "source": [
        "%%time\n",
        "inv_hess = ll.inverse_hessian(bestfit)"
      ],
      "execution_count": 0,
      "outputs": []
    },
    {
      "cell_type": "code",
      "metadata": {
        "id": "rMEt29eSA2ui",
        "colab_type": "code",
        "colab": {}
      },
      "source": [
        "ll.summary(bestfit, inverse_hessian=inv_hess)"
      ],
      "execution_count": 0,
      "outputs": []
    },
    {
      "cell_type": "code",
      "metadata": {
        "id": "z_FjJI_qA2un",
        "colab_type": "code",
        "colab": {}
      },
      "source": [
        "n_trials = int(1e5)\n",
        "\n",
        "sim_guess = fd.x1t_sr0.SR0ERSource(rn_data).simulate(\n",
        "    n_trials,\n",
        "    **{k: v for k,v in guess.items() if not k.endswith('rate_multiplier')})\n",
        "\n",
        "sim_bf = fd.x1t_sr0.SR0ERSource(rn_data).simulate(\n",
        "    n_trials, \n",
        "    **{k: v for k,v in bestfit.items() if not k.endswith('rate_multiplier')})\n",
        "\n",
        "bins = np.linspace(0, 11, 10)\n",
        "for d_sim in sim_guess, sim_bf:\n",
        "    Histdd(d_sim, dimensions=(\n",
        "        ('e_vis', np.linspace(0, 11, 50)),\n",
        "        ('electron_produced_mle', np.linspace(0, 350, 50)),\n",
        "    )).plot()\n",
        "    d = rn_data_full\n",
        "    plt.scatter(d['e_vis'], d['electron_produced_mle'], c='white', s=5)\n",
        "    plt.show()\n"
      ],
      "execution_count": 0,
      "outputs": []
    }
  ]
}