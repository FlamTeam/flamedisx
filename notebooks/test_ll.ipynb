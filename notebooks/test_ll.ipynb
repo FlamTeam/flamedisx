{
 "cells": [
  {
   "cell_type": "code",
   "execution_count": 1,
   "metadata": {},
   "outputs": [
    {
     "name": "stdout",
     "output_type": "stream",
     "text": [
      "Active python: /home/jelle/miniconda3/envs/py37/bin/python\n"
     ]
    },
    {
     "data": {
      "text/plain": [
       "tf.float32"
      ]
     },
     "execution_count": 1,
     "metadata": {},
     "output_type": "execute_result"
    }
   ],
   "source": [
    "%run ~/common_init.py\n",
    "import flamedisx as fd\n",
    "import tensorflow as tf\n",
    "#fd.utils.FLOAT_TYPE = tf.float64\n",
    "fd.float_type()"
   ]
  },
  {
   "cell_type": "code",
   "execution_count": 2,
   "metadata": {},
   "outputs": [],
   "source": [
    "rn_data = pd.read_csv('data_Rn220_lowenergy.csv')\n",
    "fd.SR0ERSource.annotate_data(rn_data)\n",
    "rn_data = rn_data[rn_data['e_vis'] < 10].copy()\n",
    "rn_data = rn_data[['s1', 's2'] + ['x_observed', 'y_observed', 'x', 'y', 'z', 'drift_time']]\n",
    "rn_data = rn_data[::32]"
   ]
  },
  {
   "cell_type": "code",
   "execution_count": 8,
   "metadata": {},
   "outputs": [
    {
     "data": {
      "text/plain": [
       "21"
      ]
     },
     "execution_count": 8,
     "metadata": {},
     "output_type": "execute_result"
    }
   ],
   "source": [
    "len(rn_data)"
   ]
  },
  {
   "cell_type": "code",
   "execution_count": 3,
   "metadata": {
    "scrolled": false
   },
   "outputs": [
    {
     "name": "stderr",
     "output_type": "stream",
     "text": [
      "Estimating mus: 100%|██████████| 5/5 [00:28<00:00,  6.05s/it]\n"
     ]
    },
    {
     "data": {
      "text/plain": [
       "(21, 0.02419828720654397)"
      ]
     },
     "execution_count": 3,
     "metadata": {},
     "output_type": "execute_result"
    }
   ],
   "source": [
    "ll = fd.LogLikelihood(\n",
    "    sources=dict(er=fd.SR0ERSource),\n",
    "    batch_size=5,\n",
    "    free_rates='er',\n",
    "    data=rn_data,\n",
    "    elife=(300e3, 500e3, 3),\n",
    "    erqy_a=(5., 25., 2),\n",
    "    erqy_b=(-29., -26., 2),\n",
    "    erqy_c=(31.9, 32.8, 2),\n",
    "    g2=(25., 35., 2),\n",
    "    n_trials=int(2e5))\n",
    "len(rn_data), len(rn_data) / ll.mu_itps['er']().numpy()"
   ]
  },
  {
   "cell_type": "code",
   "execution_count": null,
   "metadata": {},
   "outputs": [],
   "source": [
    "for pname in ll.param_names:\n",
    "    if pname.endswith('_rate_multiplier'):\n",
    "        continue\n",
    "    start, stop, n = ll.param_specs[pname]\n",
    "    x = np.linspace(start, stop, 100, dtype=np.float32)\n",
    "    y = np.array([ll.mu_itps['er'](**{pname: tf.constant(q)}) for q in x])\n",
    "    plt.plot(x, y)\n",
    "    plt.title(pname)\n",
    "    plt.show()"
   ]
  },
  {
   "cell_type": "code",
   "execution_count": 5,
   "metadata": {},
   "outputs": [],
   "source": [
    "guess = ll.guess().numpy()\n",
    "guess[0] = 0.02 #* 32"
   ]
  },
  {
   "cell_type": "code",
   "execution_count": 6,
   "metadata": {},
   "outputs": [
    {
     "name": "stdout",
     "output_type": "stream",
     "text": [
      "CPU times: user 6min 38s, sys: 9.04 s, total: 6min 47s\n",
      "Wall time: 2min 15s\n"
     ]
    }
   ],
   "source": [
    "%%time\n",
    "bestfit = ll.bestfit(guess)"
   ]
  },
  {
   "cell_type": "code",
   "execution_count": 7,
   "metadata": {},
   "outputs": [
    {
     "name": "stdout",
     "output_type": "stream",
     "text": [
      " \n",
      "*** Profile stats marshalled to file 'bla.prof'. \n"
     ]
    }
   ],
   "source": [
    "%%prun -D bla.prof\n",
    "bestfit = ll.bestfit(guess)"
   ]
  },
  {
   "cell_type": "code",
   "execution_count": 8,
   "metadata": {},
   "outputs": [
    {
     "name": "stdout",
     "output_type": "stream",
     "text": [
      "CPU times: user 6min 41s, sys: 21.6 s, total: 7min 3s\n",
      "Wall time: 2min 20s\n"
     ]
    }
   ],
   "source": [
    "%%time\n",
    "bestfit = ll.bestfit(guess)"
   ]
  },
  {
   "cell_type": "code",
   "execution_count": 9,
   "metadata": {},
   "outputs": [
    {
     "name": "stderr",
     "output_type": "stream",
     "text": [
      "E0712 15:44:04.399806 140412421769024 ultratb.py:149] Internal Python error in the inspect module.\n",
      "Below is the traceback from this internal error.\n",
      "\n"
     ]
    },
    {
     "name": "stdout",
     "output_type": "stream",
     "text": [
      "Traceback (most recent call last):\n",
      "  File \"/home/jelle/miniconda3/envs/py37/lib/python3.7/site-packages/IPython/core/magics/execution.py\", line 1291, in time\n",
      "    exec(code, glob, local_ns)\n",
      "  File \"<timed exec>\", line 1, in <module>\n",
      "  File \"/home/jelle/software/flamedisx/flamedisx/inference.py\", line 185, in bestfit\n",
      "    res = optimizer(objective, x_norm, **kwargs)\n",
      "  File \"/home/jelle/miniconda3/envs/py37/lib/python3.7/site-packages/tensorflow_probability-0.7.0rc0-py3.7.egg/tensorflow_probability/python/optimizer/lbfgs.py\", line 260, in minimize\n",
      "    parallel_iterations=parallel_iterations)[0]\n",
      "  File \"/home/jelle/miniconda3/envs/py37/lib/python3.7/site-packages/tensorflow/python/ops/control_flow_ops.py\", line 2457, in while_loop_v2\n",
      "    return_same_structure=True)\n",
      "  File \"/home/jelle/miniconda3/envs/py37/lib/python3.7/site-packages/tensorflow/python/ops/control_flow_ops.py\", line 2689, in while_loop\n",
      "    loop_vars = body(*loop_vars)\n",
      "  File \"/home/jelle/miniconda3/envs/py37/lib/python3.7/site-packages/tensorflow_probability-0.7.0rc0-py3.7.egg/tensorflow_probability/python/optimizer/lbfgs.py\", line 238, in _body\n",
      "    tolerance, f_relative_tolerance, x_tolerance, stopping_condition)\n",
      "  File \"/home/jelle/miniconda3/envs/py37/lib/python3.7/site-packages/tensorflow_probability-0.7.0rc0-py3.7.egg/tensorflow_probability/python/optimizer/bfgs_utils.py\", line 153, in line_search_step\n",
      "    converged=inactive)  # No search needed for these.\n",
      "  File \"/home/jelle/miniconda3/envs/py37/lib/python3.7/site-packages/tensorflow_probability-0.7.0rc0-py3.7.egg/tensorflow_probability/python/optimizer/linesearch/hager_zhang.py\", line 296, in hager_zhang\n",
      "    lambda: init_interval)\n",
      "  File \"/home/jelle/miniconda3/envs/py37/lib/python3.7/site-packages/tensorflow_probability-0.7.0rc0-py3.7.egg/tensorflow_probability/python/internal/prefer_static.py\", line 148, in cond\n",
      "    return true_fn()\n",
      "  File \"/home/jelle/miniconda3/envs/py37/lib/python3.7/site-packages/tensorflow_probability-0.7.0rc0-py3.7.egg/tensorflow_probability/python/optimizer/linesearch/hager_zhang.py\", line 290, in _apply_bracket_and_search\n",
      "    curvature_param)\n",
      "  File \"/home/jelle/miniconda3/envs/py37/lib/python3.7/site-packages/tensorflow_probability-0.7.0rc0-py3.7.egg/tensorflow_probability/python/optimizer/linesearch/hager_zhang.py\", line 418, in _bracket_and_search\n",
      "    shrinkage_param)\n",
      "  File \"/home/jelle/miniconda3/envs/py37/lib/python3.7/site-packages/tensorflow_probability-0.7.0rc0-py3.7.egg/tensorflow_probability/python/optimizer/linesearch/hager_zhang.py\", line 543, in _line_search_after_bracketing\n",
      "    parallel_iterations=1)[0]\n",
      "  File \"/home/jelle/miniconda3/envs/py37/lib/python3.7/site-packages/tensorflow/python/ops/control_flow_ops.py\", line 2457, in while_loop_v2\n",
      "    return_same_structure=True)\n",
      "  File \"/home/jelle/miniconda3/envs/py37/lib/python3.7/site-packages/tensorflow/python/ops/control_flow_ops.py\", line 2689, in while_loop\n",
      "    loop_vars = body(*loop_vars)\n",
      "  File \"/home/jelle/miniconda3/envs/py37/lib/python3.7/site-packages/tensorflow_probability-0.7.0rc0-py3.7.egg/tensorflow_probability/python/optimizer/linesearch/hager_zhang.py\", line 493, in _loop_body\n",
      "    sufficient_decrease_param, curvature_param)\n",
      "  File \"/home/jelle/miniconda3/envs/py37/lib/python3.7/site-packages/tensorflow_probability-0.7.0rc0-py3.7.egg/tensorflow_probability/python/optimizer/linesearch/internal/hager_zhang_lib.py\", line 145, in secant2\n",
      "    _secant(search_interval.left, search_interval.right))\n",
      "  File \"/home/jelle/miniconda3/envs/py37/lib/python3.7/site-packages/tensorflow_probability-0.7.0rc0-py3.7.egg/tensorflow_probability/python/optimizer/bfgs_utils.py\", line 247, in _restricted_func\n",
      "    objective_value, gradient = value_and_gradients_function(pt)\n",
      "  File \"/home/jelle/software/flamedisx/flamedisx/inference.py\", line 181, in objective\n",
      "    y += self._minus_ll(x_norm * guess, i_batch=i_batch)\n",
      "  File \"/home/jelle/software/flamedisx/flamedisx/inference.py\", line 129, in _minus_ll\n",
      "    return -2 * self._log_likelihood(ptensor, i_batch)\n",
      "  File \"/home/jelle/software/flamedisx/flamedisx/inference.py\", line 120, in _log_likelihood\n",
      "    * s.differential_rate(i_batch, **self._source_kwargs(ptensor)))\n",
      "  File \"/home/jelle/software/flamedisx/flamedisx/source.py\", line 306, in differential_rate\n",
      "    y = self.rate_nphnel(i_batch)\n",
      "  File \"/home/jelle/software/flamedisx/flamedisx/source.py\", line 382, in rate_nphnel\n",
      "    pel_clip = tf.clip_by_value(pel_num, 1e-6, 1. - 1e-6)\n",
      "  File \"/home/jelle/miniconda3/envs/py37/lib/python3.7/site-packages/tensorflow/python/util/dispatch.py\", line 180, in wrapper\n",
      "    return target(*args, **kwargs)\n",
      "  File \"/home/jelle/miniconda3/envs/py37/lib/python3.7/site-packages/tensorflow/python/ops/clip_ops.py\", line 77, in clip_by_value\n",
      "    t_max = math_ops.maximum(t_min, clip_value_min, name=name)\n",
      "  File \"/home/jelle/miniconda3/envs/py37/lib/python3.7/site-packages/tensorflow/python/ops/gen_math_ops.py\", line 6071, in maximum\n",
      "    name, _ctx._post_execution_callbacks, x, y)\n",
      "KeyboardInterrupt\n",
      "\n",
      "During handling of the above exception, another exception occurred:\n",
      "\n",
      "Traceback (most recent call last):\n",
      "  File \"/home/jelle/miniconda3/envs/py37/lib/python3.7/site-packages/IPython/core/interactiveshell.py\", line 2033, in showtraceback\n",
      "    stb = value._render_traceback_()\n",
      "AttributeError: 'KeyboardInterrupt' object has no attribute '_render_traceback_'\n",
      "\n",
      "During handling of the above exception, another exception occurred:\n",
      "\n",
      "Traceback (most recent call last):\n",
      "  File \"/home/jelle/miniconda3/envs/py37/lib/python3.7/site-packages/IPython/core/ultratb.py\", line 1095, in get_records\n",
      "    return _fixed_getinnerframes(etb, number_of_lines_of_context, tb_offset)\n",
      "  File \"/home/jelle/miniconda3/envs/py37/lib/python3.7/site-packages/IPython/core/ultratb.py\", line 313, in wrapped\n",
      "    return f(*args, **kwargs)\n",
      "  File \"/home/jelle/miniconda3/envs/py37/lib/python3.7/site-packages/IPython/core/ultratb.py\", line 347, in _fixed_getinnerframes\n",
      "    records = fix_frame_records_filenames(inspect.getinnerframes(etb, context))\n",
      "  File \"/home/jelle/miniconda3/envs/py37/lib/python3.7/inspect.py\", line 1502, in getinnerframes\n",
      "    frameinfo = (tb.tb_frame,) + getframeinfo(tb, context)\n",
      "  File \"/home/jelle/miniconda3/envs/py37/lib/python3.7/inspect.py\", line 1460, in getframeinfo\n",
      "    filename = getsourcefile(frame) or getfile(frame)\n",
      "  File \"/home/jelle/miniconda3/envs/py37/lib/python3.7/inspect.py\", line 696, in getsourcefile\n",
      "    if getattr(getmodule(object, filename), '__loader__', None) is not None:\n",
      "  File \"/home/jelle/miniconda3/envs/py37/lib/python3.7/inspect.py\", line 742, in getmodule\n",
      "    os.path.realpath(f)] = module.__name__\n",
      "AttributeError: module has no attribute '__name__'\n"
     ]
    },
    {
     "ename": "KeyboardInterrupt",
     "evalue": "",
     "output_type": "error",
     "traceback": [
      "\u001b[0;31m---------------------------------------------------------------------------\u001b[0m"
     ]
    }
   ],
   "source": [
    "%%time\n",
    "bestfit = ll.bestfit(guess)"
   ]
  },
  {
   "cell_type": "code",
   "execution_count": 12,
   "metadata": {},
   "outputs": [
    {
     "name": "stderr",
     "output_type": "stream",
     "text": [
      "Computing hessian:   0%|          | 0/9 [00:00<?, ?it/s]W0711 18:38:51.055984 140404175497024 backprop.py:968] Calling GradientTape.gradient on a persistent tape inside its context is significantly less efficient than calling it outside the context (it causes the gradient ops to be recorded on the tape, leading to increased CPU and memory usage). Only call GradientTape.gradient inside the context if you actually want to trace the gradient in order to compute higher order derivatives.\n",
      "Computing hessian: 100%|██████████| 9/9 [02:36<00:00, 18.62s/it]"
     ]
    },
    {
     "name": "stdout",
     "output_type": "stream",
     "text": [
      "CPU times: user 6min 4s, sys: 3.07 s, total: 6min 7s\n",
      "Wall time: 2min 36s\n"
     ]
    },
    {
     "name": "stderr",
     "output_type": "stream",
     "text": [
      "\n"
     ]
    }
   ],
   "source": [
    "%%time\n",
    "inv_hess = ll.inverse_hessian(bestfit)"
   ]
  },
  {
   "cell_type": "code",
   "execution_count": 15,
   "metadata": {},
   "outputs": [],
   "source": [
    "# %%time\n",
    "# inv_hess = ll.inverse_hessian(bestfit, save_ram=False)"
   ]
  },
  {
   "cell_type": "code",
   "execution_count": 17,
   "metadata": {},
   "outputs": [
    {
     "name": "stdout",
     "output_type": "stream",
     "text": [
      "er_rate_multiplier: 0.0207 +- 0.00347\n",
      "elife: 4.37e+05 +- 3.28e+04\n",
      "erqy_a: 14.3 +- 17.9\n",
      "erqy_b: -31.9 +- 4.62\n",
      "erqy_c: 32.7 +- 2.21\n",
      "g2: 32.4 +- 1.15\n",
      "Correlation matrix:\n",
      "                    er_rate_multiplier  elife     erqy_a  erqy_b  erqy_c  \\\n",
      "er_rate_multiplier               1.000 -0.046  9.547e-02   0.013  -0.002   \n",
      "elife                           -0.046  1.000  7.968e-03   0.370  -0.630   \n",
      "erqy_a                           0.095  0.008  1.000e+00   0.450  -0.559   \n",
      "erqy_b                           0.013  0.370  4.497e-01   1.000  -0.652   \n",
      "erqy_c                          -0.002 -0.630 -5.593e-01  -0.652   1.000   \n",
      "g2                              -0.021 -0.137  9.493e-04   0.010  -0.283   \n",
      "\n",
      "                           g2  \n",
      "er_rate_multiplier -2.117e-02  \n",
      "elife              -1.365e-01  \n",
      "erqy_a              9.493e-04  \n",
      "erqy_b              9.887e-03  \n",
      "erqy_c             -2.827e-01  \n",
      "g2                  1.000e+00  \n"
     ]
    }
   ],
   "source": [
    "ll.summary(bestfit, inverse_hessian=inv_hess)"
   ]
  },
  {
   "cell_type": "code",
   "execution_count": 10,
   "metadata": {},
   "outputs": [
    {
     "name": "stdout",
     "output_type": "stream",
     "text": [
      "er_rate_multiplier: 0.021 +- 0.00353\n",
      "elife: 4.37e+05 +- 3.27e+04\n",
      "erqy_a: 12.7 +- 17.5\n",
      "erqy_b: -31.6 +- 4.61\n",
      "erqy_c: 32.8 +- 2.23\n",
      "g2: 32.3 +- 1.31\n",
      "Correlation matrix:\n",
      "                    er_rate_multiplier  elife  erqy_a  erqy_b  erqy_c     g2\n",
      "er_rate_multiplier               1.000 -0.035   0.116   0.028  -0.022 -0.017\n",
      "elife                           -0.035  1.000   0.022   0.364  -0.613 -0.156\n",
      "erqy_a                           0.116  0.022   1.000   0.447  -0.554  0.010\n",
      "erqy_b                           0.028  0.364   0.447   1.000  -0.638  0.010\n",
      "erqy_c                          -0.022 -0.613  -0.554  -0.638   1.000 -0.325\n",
      "g2                              -0.017 -0.156   0.010   0.010  -0.325  1.000\n"
     ]
    }
   ],
   "source": []
  },
  {
   "cell_type": "code",
   "execution_count": null,
   "metadata": {},
   "outputs": [],
   "source": [
    "ll.summary(bestfit, inverse_hessian=inv_hess, save_ram=False)"
   ]
  },
  {
   "cell_type": "code",
   "execution_count": 24,
   "metadata": {},
   "outputs": [
    {
     "name": "stderr",
     "output_type": "stream",
     "text": [
      "Computing hessian: 100%|██████████| 6/6 [01:23<00:00, 15.83s/it]"
     ]
    },
    {
     "name": "stdout",
     "output_type": "stream",
     "text": [
      "er_rate_multiplier: 0.00921 +- 0.00236\n",
      "elife: 4.34e+05 +- 4.84e+04\n",
      "erqy_a: 14.5 +- 27.4\n",
      "erqy_b: -32.1 +- 6.98\n",
      "erqy_c: 32.8 +- 3.33\n",
      "g2: 32.4 +- 1.76\n",
      "Correlation matrix:\n",
      "                    er_rate_multiplier  elife  erqy_a  erqy_b  erqy_c  \\\n",
      "er_rate_multiplier           1.000e+00 -0.003   0.146   0.064  -0.080   \n",
      "elife                       -2.567e-03  1.000   0.006   0.362  -0.621   \n",
      "erqy_a                       1.459e-01  0.006   1.000   0.449  -0.564   \n",
      "erqy_b                       6.420e-02  0.362   0.449   1.000  -0.648   \n",
      "erqy_c                      -8.024e-02 -0.621  -0.564  -0.648   1.000   \n",
      "g2                           6.193e-04 -0.142  -0.001   0.008  -0.283   \n",
      "\n",
      "                           g2  \n",
      "er_rate_multiplier  6.193e-04  \n",
      "elife              -1.424e-01  \n",
      "erqy_a             -1.292e-03  \n",
      "erqy_b              8.372e-03  \n",
      "erqy_c             -2.832e-01  \n",
      "g2                  1.000e+00  \n"
     ]
    },
    {
     "name": "stderr",
     "output_type": "stream",
     "text": [
      "\n"
     ]
    }
   ],
   "source": [
    "guess = ll.guess().numpy()\n",
    "guess[0] = 0.01\n",
    "bestfit = ll.bestfit(guess)\n",
    "inv_hess = ll.inverse_hessian(bestfit)\n",
    "ll.summary(bestfit, inverse_hessian=inv_hess)"
   ]
  },
  {
   "cell_type": "code",
   "execution_count": null,
   "metadata": {},
   "outputs": [],
   "source": [
    "er_source_s = fd.SR0ERSource()\n",
    "er_source_s.set_data(rn_data)\n",
    "n_trials = int(1e5)\n",
    "\n",
    "sim_guess = er_source_s.simulate(n_trials,\n",
    "                                **ll.params_to_dict(guess))\n",
    "sim_bf = er_source_s.simulate(n_trials, \n",
    "                              **ll.params_to_dict(bestfit.numpy()))\n",
    "\n",
    "bins = np.linspace(0, 11, 10)\n",
    "for d_sim in sim_guess, sim_bf:\n",
    "    Histdd(d_sim, dimensions=(\n",
    "        ('e_vis', np.linspace(0, 11, 50)),\n",
    "        ('electron_produced_mle', np.linspace(0, 350, 50)),\n",
    "    )).plot()\n",
    "    d = rn_data\n",
    "    plt.scatter(d['e_vis'], d['electron_produced_mle'], c='white', s=5)\n",
    "    plt.show()\n"
   ]
  },
  {
   "cell_type": "markdown",
   "metadata": {},
   "source": [
    "# OLD"
   ]
  },
  {
   "cell_type": "code",
   "execution_count": 9,
   "metadata": {},
   "outputs": [],
   "source": [
    "# @tf.function\n",
    "# def bla(x):\n",
    "#     y = ll.minus_ll(x)\n",
    "#     #grads = tf.gradients(y, x)\n",
    "#     return tf.hessians(y, x)\n",
    "\n",
    "# logdir = '/tmp/summaries/bla'\n",
    "# writer = tf.summary.create_file_writer(logdir)\n",
    "# tf.summary.trace_on(graph=True, profiler=True)\n",
    "# # Forward pass\n",
    "# bla(bestfit)\n",
    "# with writer.as_default():\n",
    "#     tf.summary.trace_export(name=\"bla\", step=0, profiler_outdir=logdir)"
   ]
  }
 ],
 "metadata": {
  "kernelspec": {
   "display_name": "Python 3",
   "language": "python",
   "name": "python3"
  },
  "language_info": {
   "codemirror_mode": {
    "name": "ipython",
    "version": 3
   },
   "file_extension": ".py",
   "mimetype": "text/x-python",
   "name": "python",
   "nbconvert_exporter": "python",
   "pygments_lexer": "ipython3",
   "version": "3.7.3"
  }
 },
 "nbformat": 4,
 "nbformat_minor": 2
}
