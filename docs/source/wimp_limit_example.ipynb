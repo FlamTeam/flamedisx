{
 "cells": [
  {
   "cell_type": "markdown",
   "metadata": {},
   "source": [
    "# WIMP limit example"
   ]
  },
  {
   "cell_type": "markdown",
   "metadata": {},
   "source": [
    "This small example shows how to set a very basic cross-section vs WIMP mass limit. \n",
    "\n",
    "We will\n",
    "  * assume the asymptotic approximation (Wilks' theorem) for the test statistic distribution is accurate;\n",
    "  * compute one-sided results, i.e. just upper limits, no matter how many WIMPs are observed;\n",
    "  * have the flat ER background rate as the only nuisance parameter."
   ]
  },
  {
   "cell_type": "code",
   "execution_count": 1,
   "metadata": {},
   "outputs": [
    {
     "name": "stdout",
     "output_type": "stream",
     "text": [
      "Flamedisx is installed :-)\n"
     ]
    }
   ],
   "source": [
    "!wget -nc https://raw.githubusercontent.com/FlamTeam/flamedisx-notebooks/master/_if_on_colab_setup_flamedisx.ipynb\n",
    "%run _if_on_colab_setup_flamedisx.ipynb"
   ]
  },
  {
   "cell_type": "code",
   "execution_count": 2,
   "metadata": {},
   "outputs": [],
   "source": [
    "import numpy as np\n",
    "from tqdm import tqdm\n",
    "import matplotlib.pyplot as plt\n",
    "from scipy import stats\n",
    "import tensorflow as tf\n",
    "from tqdm import tqdm\n",
    "\n",
    "import flamedisx as fd"
   ]
  },
  {
   "cell_type": "markdown",
   "metadata": {},
   "source": [
    "The helper function below creates a flamedisx likelihood for one WIMP mass.\n",
    "\n",
    "We will use flamedisx's default settings. These are not especially meaningful, and may have changed by the time you read this notebook. Currently, they are set to:\n",
    "  * ~2 tonne fiducial mass (all of XENON1T without cuts);\n",
    "  * 1 year live time;\n",
    "  * 100 events/keV flat ER background, so roughly 50 events/(tonne year keV)\n",
    "\n",
    "We'll also inherit from the XENON1T SR0 sources, to get a few other settings (like ER yields) roughly like they were used in XENON1T's first science run (1705.06655). We did not compare these models to the SR0 datasets in detail -- don't think you can use them to do any real science!\n",
    "\n",
    "Because we'd like this notebook to run even if you only have a CPU, we'll **scale down the exposure by a factor 50**. If you have a GPU, patience, or both, just set the exposure scale to 1. If you have a GPU, you'll also want to increase the default batch size, e.g. to 100 or more -- as large as your card can handle."
   ]
  },
  {
   "cell_type": "code",
   "execution_count": 3,
   "metadata": {},
   "outputs": [],
   "source": [
    "exposure_scale = 0.02\n",
    "\n",
    "def make_likelihood(wimp_mass, data=None, exposure_scale=1):\n",
    "\n",
    "    class MySource:        \n",
    "        # Stupid, silly way to scale the exposure...\n",
    "        # You should really change the expected energy spectra\n",
    "        # and the t_start and stop attributes.\n",
    "        def s2_acceptance(self, s2):\n",
    "            return tf.ones_like(s2) * exposure_scale\n",
    "    \n",
    "    class MyWIMP(MySource, fd.SR0WIMPSource):\n",
    "        mw = wimp_mass\n",
    "        \n",
    "    class MyER(MySource, fd.SR0ERSource):\n",
    "        pass\n",
    "\n",
    "    return fd.LogLikelihood(\n",
    "        sources=dict(er=MyER, wimp=MyWIMP),\n",
    "        data=data,\n",
    "        progress=False,\n",
    "        # If you have a GPU, set an appropriate batch size here:\n",
    "        # batch_size = 100,\n",
    "        free_rates=('er', 'wimp'))"
   ]
  },
  {
   "cell_type": "markdown",
   "metadata": {},
   "source": [
    "Let's pre-create the likelihoods for a set of WIMP masses. This isn't strictly necessary for this simple example, but helps to give you an idea how long different operations take.\n",
    "\n",
    "In particular, the likelihood creation below takes roughly a minute, because we must estimate the expected number of events after efficiencies by Monte Carlo simulation. See section III.B in the [flamedsix paper](https://arxiv.org/pdf/2003.12483.pdf) for more info. This isn't sped up by GPUs, but you only need to do it once."
   ]
  },
  {
   "cell_type": "code",
   "execution_count": 4,
   "metadata": {},
   "outputs": [
    {
     "name": "stderr",
     "output_type": "stream",
     "text": [
      "Precreating likelihoods...: 100%|██████████| 10/10 [00:57<00:00,  5.71s/it]\n"
     ]
    }
   ],
   "source": [
    "masses = np.array([10, 14, 20, 30, 40, 50, 70, 100, 140, 200])\n",
    "\n",
    "likelihoods = {mw: make_likelihood(mw, exposure_scale=exposure_scale)\n",
    "               for mw in tqdm(masses, desc='Precreating likelihoods...')}"
   ]
  },
  {
   "cell_type": "markdown",
   "metadata": {},
   "source": [
    "Let's simulate and plot a fake dataset. This will be quick."
   ]
  },
  {
   "cell_type": "code",
   "execution_count": 5,
   "metadata": {},
   "outputs": [
    {
     "data": {
      "text/plain": [
       "Text(0, 0.5, 'cS2 [PE]')"
      ]
     },
     "execution_count": 5,
     "metadata": {},
     "output_type": "execute_result"
    },
    {
     "data": {
      "image/png": "[encoded data removed]",
      "text/plain": [
       "<Figure size 432x288 with 1 Axes>"
      ]
     },
     "metadata": {
      "needs_background": "light"
     },
     "output_type": "display_data"
    }
   ],
   "source": [
    "# True WIMP mass in GeV/c^2 and cross section in cm^2\n",
    "true_mass = 50      # GeV/c^2\n",
    "true_cross = 1e-45  # cm^2\n",
    "\n",
    "ll = likelihoods[true_mass]\n",
    "df = ll.simulate(wimp_rate_multiplier=true_cross/fd.WIMPEnergySpectrum.sigma_nucleon)\n",
    "\n",
    "for label, d in df.groupby('source'):\n",
    "    plt.scatter(d['cs1'], d['cs2'], label=label)\n",
    "\n",
    "plt.legend(loc='upper left')\n",
    "plt.xlabel(\"cS1 [PE]\")\n",
    "plt.ylabel(\"cS2 [PE]\")"
   ]
  },
  {
   "cell_type": "markdown",
   "metadata": {},
   "source": [
    "Now let's make ourselves some WIMP limits. This is where GPU speedups kick in. You'll also notice the computation time scales with the dataset size -- unless the dataset is smaller than your batch size, of course."
   ]
  },
  {
   "cell_type": "code",
   "execution_count": 6,
   "metadata": {},
   "outputs": [
    {
     "name": "stderr",
     "output_type": "stream",
     "text": [
      "100%|██████████| 10/10 [00:44<00:00,  4.48s/it]\n"
     ]
    }
   ],
   "source": [
    "limits = np.zeros(len(masses))\n",
    "\n",
    "for i, mw in enumerate(tqdm(masses)):\n",
    "    ll = likelihoods[mw]\n",
    "    ll.set_data(df)\n",
    "\n",
    "    limits[i] = ll.limit('wimp_rate_multiplier')\n",
    "\n",
    "# Convert from rate multiplier ('scale factor') to cross-section\n",
    "limits *= fd.WIMPEnergySpectrum.sigma_nucleon"
   ]
  },
  {
   "cell_type": "code",
   "execution_count": 7,
   "metadata": {},
   "outputs": [
    {
     "data": {
      "image/png": "[encoded data removed]",
      "text/plain": [
       "<Figure size 432x288 with 1 Axes>"
      ]
     },
     "metadata": {
      "needs_background": "light"
     },
     "output_type": "display_data"
    }
   ],
   "source": [
    "plt.plot(masses, limits, c='k', marker='.')\n",
    "\n",
    "# Above 200 GeV, limit should scale (roughtly) with mass\n",
    "ms = np.geomspace(200, 1e3, 100)\n",
    "limit_200 = limits[-1]\n",
    "plt.plot(ms, limit_200 * ms/200, c='k')\n",
    "\n",
    "if true_cross > 0:\n",
    "    plt.scatter([true_mass], [true_cross], marker='*', c='r')\n",
    "\n",
    "plt.xscale('log')\n",
    "plt.yscale('log')\n",
    "plt.xlabel(\"WIMP mass [$\\mathrm{GeV}/c^2$]\")\n",
    "plt.ylabel(\"WIMP cross-section [$\\mathrm{cm}^2$]\")\n",
    "\n",
    "plt.tight_layout()\n",
    "plt.savefig('example_limit.png', dpi=200)"
   ]
  },
  {
   "cell_type": "markdown",
   "metadata": {},
   "source": [
    "The red star shows the true WIMP model (unless you set the cross-section to 0). The limit should be above this 90% of the time you run the notebook... if Wilks' theorem is accurate for this data!"
   ]
  },
  {
   "cell_type": "markdown",
   "metadata": {},
   "source": [
    "## Testing Wilks"
   ]
  },
  {
   "cell_type": "markdown",
   "metadata": {},
   "source": [
    "It is straightforward to test if Wilks holds for this particular WIMP model: simulate many toy datasets and compute the profile likelihood test statistic. \n",
    "\n",
    "We'll just do 20 trials to give you an idea. To get any kind of real test of Wilks, you'll want to do many more trials -- maybe 100 or 1000 trials if you care only about 90% confidence limits."
   ]
  },
  {
   "cell_type": "code",
   "execution_count": 8,
   "metadata": {},
   "outputs": [
    {
     "name": "stderr",
     "output_type": "stream",
     "text": [
      "Testing Wilks: 100%|██████████| 20/20 [00:51<00:00,  2.57s/it]\n"
     ]
    }
   ],
   "source": [
    "ll = likelihoods[true_mass]\n",
    "true_mult = true_cross/fd.WIMPEnergySpectrum.sigma_nucleon\n",
    "\n",
    "n_trials = int(20)\n",
    "ts = np.zeros(n_trials)\n",
    "\n",
    "for i in tqdm(range(n_trials), desc='Testing Wilks'):\n",
    "    df = ll.simulate(wimp_rate_multiplier=true_mult)\n",
    "    ll.set_data(df)\n",
    "\n",
    "    bestfit = ll.bestfit(guess=dict(wimp_rate_multiplier=true_mult))\n",
    "    conditional_fit = ll.bestfit(fix=dict(wimp_rate_multiplier=true_mult),\n",
    "                                 guess=dict(er_rate_multiplier=bestfit['er_rate_multiplier']))\n",
    "\n",
    "    ts[i] = -2 * (ll(**conditional_fit) - ll(**bestfit))"
   ]
  },
  {
   "cell_type": "code",
   "execution_count": 9,
   "metadata": {},
   "outputs": [
    {
     "data": {
      "text/plain": [
       "(0.0, 8.0)"
      ]
     },
     "execution_count": 9,
     "metadata": {},
     "output_type": "execute_result"
    },
    {
     "data": {
      "image/png": "[encoded data removed]",
      "text/plain": [
       "<Figure size 432x288 with 1 Axes>"
      ]
     },
     "metadata": {
      "needs_background": "light"
     },
     "output_type": "display_data"
    }
   ],
   "source": [
    "_t = np.linspace(0, 8, 1000)\n",
    "\n",
    "# Empirical survival function: fraction of ts that are higher\n",
    "esf = (ts[:,None] > _t[None,:]).mean(axis=0)\n",
    "plt.plot(_t, esf, label='Empirical')\n",
    "\n",
    "plt.plot(_t, stats.chi2(1).sf(_t), label='Wilks')\n",
    "\n",
    "plt.xlabel(\"Test statistic $t$\")\n",
    "plt.ylabel(\"P( higher $t$ )\")\n",
    "plt.legend(loc='upper right')\n",
    "plt.ylim(0, 1)\n",
    "plt.xlim(_t[0], _t[-1])"
   ]
  }
 ],
 "metadata": {
  "kernelspec": {
   "display_name": "Python 3",
   "language": "python",
   "name": "python3"
  },
  "language_info": {
   "codemirror_mode": {
    "name": "ipython",
    "version": 3
   },
   "file_extension": ".py",
   "mimetype": "text/x-python",
   "name": "python",
   "nbconvert_exporter": "python",
   "pygments_lexer": "ipython3",
   "version": "3.8.5"
  }
 },
 "nbformat": 4,
 "nbformat_minor": 4
}
